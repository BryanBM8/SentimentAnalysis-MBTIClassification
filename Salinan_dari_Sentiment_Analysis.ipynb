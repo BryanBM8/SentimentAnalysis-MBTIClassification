{
  "nbformat": 4,
  "nbformat_minor": 0,
  "metadata": {
    "colab": {
      "provenance": [],
      "include_colab_link": true
    },
    "kernelspec": {
      "name": "python3",
      "display_name": "Python 3"
    },
    "language_info": {
      "name": "python"
    }
  },
  "cells": [
    {
      "cell_type": "markdown",
      "metadata": {
        "id": "view-in-github",
        "colab_type": "text"
      },
      "source": [
        "<a href=\"https://colab.research.google.com/github/BryanBM8/SentimentAnalysis-MBTIClassification/blob/main/Salinan_dari_Sentiment_Analysis.ipynb\" target=\"_parent\"><img src=\"https://colab.research.google.com/assets/colab-badge.svg\" alt=\"Open In Colab\"/></a>"
      ]
    },
    {
      "cell_type": "code",
      "source": [
        "import nltk, csv, string, random, os, pickle\n",
        "import re\n",
        "from nltk.tokenize import word_tokenize\n",
        "from nltk.corpus import stopwords, wordnet\n",
        "from nltk.classify import NaiveBayesClassifier, accuracy\n",
        "from nltk.probability import FreqDist\n",
        "from nltk.stem import WordNetLemmatizer, PorterStemmer\n",
        "nltk.download('maxent_ne_chunker')\n",
        "nltk.download('words')\n",
        "nltk.download('punkt')\n",
        "nltk.download('stopwords')\n",
        "nltk.download('wordnet')\n",
        "import pandas as pd\n",
        "from sklearn import svm\n",
        "import numpy as np\n",
        "from sklearn.model_selection import train_test_split\n",
        "import matplotlib.pyplot as plt\n",
        "from sklearn.metrics import f1_score\n",
        "from sklearn.metrics import classification_report\n",
        "from sklearn.feature_extraction.text import CountVectorizer"
      ],
      "metadata": {
        "colab": {
          "base_uri": "https://localhost:8080/"
        },
        "id": "IFMEbOknk1Cb",
        "outputId": "e7a1cd47-a7d7-4c2a-8d37-63d82c3a7ea2"
      },
      "execution_count": null,
      "outputs": [
        {
          "output_type": "stream",
          "name": "stderr",
          "text": [
            "[nltk_data] Downloading package maxent_ne_chunker to\n",
            "[nltk_data]     /root/nltk_data...\n",
            "[nltk_data]   Unzipping chunkers/maxent_ne_chunker.zip.\n",
            "[nltk_data] Downloading package words to /root/nltk_data...\n",
            "[nltk_data]   Unzipping corpora/words.zip.\n",
            "[nltk_data] Downloading package punkt to /root/nltk_data...\n",
            "[nltk_data]   Unzipping tokenizers/punkt.zip.\n",
            "[nltk_data] Downloading package stopwords to /root/nltk_data...\n",
            "[nltk_data]   Unzipping corpora/stopwords.zip.\n",
            "[nltk_data] Downloading package wordnet to /root/nltk_data...\n"
          ]
        }
      ]
    },
    {
      "cell_type": "code",
      "execution_count": null,
      "metadata": {
        "colab": {
          "base_uri": "https://localhost:8080/",
          "height": 467
        },
        "id": "5jeWhazhjKs1",
        "outputId": "45f496e0-5af6-480a-e937-08fbf1339648"
      },
      "outputs": [
        {
          "output_type": "execute_result",
          "data": {
            "text/plain": [
              "       textID                                               text  \\\n",
              "0  cb774db0d1                I`d have responded, if I were going   \n",
              "1  549e992a42      Sooo SAD I will miss you here in San Diego!!!   \n",
              "2  088c60f138                          my boss is bullying me...   \n",
              "3  9642c003ef                     what interview! leave me alone   \n",
              "4  358bd9e861   Sons of ****, why couldn`t they put them on t...   \n",
              "5  28b57f3990  http://www.dothebouncy.com/smf - some shameles...   \n",
              "6  6e0c6d75b1  2am feedings for the baby are fun when he is a...   \n",
              "7  50e14c0bb8                                         Soooo high   \n",
              "8  e050245fbd                                        Both of you   \n",
              "9  fc2cbefa9d   Journey!? Wow... u just became cooler.  hehe....   \n",
              "\n",
              "                                       selected_text sentiment Time of Tweet  \\\n",
              "0                I`d have responded, if I were going   neutral       morning   \n",
              "1                                           Sooo SAD  negative          noon   \n",
              "2                                        bullying me  negative         night   \n",
              "3                                     leave me alone  negative       morning   \n",
              "4                                      Sons of ****,  negative          noon   \n",
              "5  http://www.dothebouncy.com/smf - some shameles...   neutral         night   \n",
              "6                                                fun  positive       morning   \n",
              "7                                         Soooo high   neutral          noon   \n",
              "8                                        Both of you   neutral         night   \n",
              "9                       Wow... u just became cooler.  positive       morning   \n",
              "\n",
              "  Age of User              Country  Population -2020  Land Area (Km²)  \\\n",
              "0        0-20          Afghanistan          38928346         652860.0   \n",
              "1       21-30              Albania           2877797          27400.0   \n",
              "2       31-45              Algeria          43851044        2381740.0   \n",
              "3       46-60              Andorra             77265            470.0   \n",
              "4       60-70               Angola          32866272        1246700.0   \n",
              "5      70-100  Antigua and Barbuda             97929            440.0   \n",
              "6        0-20            Argentina          45195774        2736690.0   \n",
              "7       21-30              Armenia           2963243          28470.0   \n",
              "8       31-45            Australia          25499884        7682300.0   \n",
              "9       46-60              Austria           9006398          82400.0   \n",
              "\n",
              "   Density (P/Km²)  \n",
              "0               60  \n",
              "1              105  \n",
              "2               18  \n",
              "3              164  \n",
              "4               26  \n",
              "5              223  \n",
              "6               17  \n",
              "7              104  \n",
              "8                3  \n",
              "9              109  "
            ],
            "text/html": [
              "\n",
              "  <div id=\"df-a2a3bdaf-8c20-416f-bf8d-ab7748e29781\" class=\"colab-df-container\">\n",
              "    <div>\n",
              "<style scoped>\n",
              "    .dataframe tbody tr th:only-of-type {\n",
              "        vertical-align: middle;\n",
              "    }\n",
              "\n",
              "    .dataframe tbody tr th {\n",
              "        vertical-align: top;\n",
              "    }\n",
              "\n",
              "    .dataframe thead th {\n",
              "        text-align: right;\n",
              "    }\n",
              "</style>\n",
              "<table border=\"1\" class=\"dataframe\">\n",
              "  <thead>\n",
              "    <tr style=\"text-align: right;\">\n",
              "      <th></th>\n",
              "      <th>textID</th>\n",
              "      <th>text</th>\n",
              "      <th>selected_text</th>\n",
              "      <th>sentiment</th>\n",
              "      <th>Time of Tweet</th>\n",
              "      <th>Age of User</th>\n",
              "      <th>Country</th>\n",
              "      <th>Population -2020</th>\n",
              "      <th>Land Area (Km²)</th>\n",
              "      <th>Density (P/Km²)</th>\n",
              "    </tr>\n",
              "  </thead>\n",
              "  <tbody>\n",
              "    <tr>\n",
              "      <th>0</th>\n",
              "      <td>cb774db0d1</td>\n",
              "      <td>I`d have responded, if I were going</td>\n",
              "      <td>I`d have responded, if I were going</td>\n",
              "      <td>neutral</td>\n",
              "      <td>morning</td>\n",
              "      <td>0-20</td>\n",
              "      <td>Afghanistan</td>\n",
              "      <td>38928346</td>\n",
              "      <td>652860.0</td>\n",
              "      <td>60</td>\n",
              "    </tr>\n",
              "    <tr>\n",
              "      <th>1</th>\n",
              "      <td>549e992a42</td>\n",
              "      <td>Sooo SAD I will miss you here in San Diego!!!</td>\n",
              "      <td>Sooo SAD</td>\n",
              "      <td>negative</td>\n",
              "      <td>noon</td>\n",
              "      <td>21-30</td>\n",
              "      <td>Albania</td>\n",
              "      <td>2877797</td>\n",
              "      <td>27400.0</td>\n",
              "      <td>105</td>\n",
              "    </tr>\n",
              "    <tr>\n",
              "      <th>2</th>\n",
              "      <td>088c60f138</td>\n",
              "      <td>my boss is bullying me...</td>\n",
              "      <td>bullying me</td>\n",
              "      <td>negative</td>\n",
              "      <td>night</td>\n",
              "      <td>31-45</td>\n",
              "      <td>Algeria</td>\n",
              "      <td>43851044</td>\n",
              "      <td>2381740.0</td>\n",
              "      <td>18</td>\n",
              "    </tr>\n",
              "    <tr>\n",
              "      <th>3</th>\n",
              "      <td>9642c003ef</td>\n",
              "      <td>what interview! leave me alone</td>\n",
              "      <td>leave me alone</td>\n",
              "      <td>negative</td>\n",
              "      <td>morning</td>\n",
              "      <td>46-60</td>\n",
              "      <td>Andorra</td>\n",
              "      <td>77265</td>\n",
              "      <td>470.0</td>\n",
              "      <td>164</td>\n",
              "    </tr>\n",
              "    <tr>\n",
              "      <th>4</th>\n",
              "      <td>358bd9e861</td>\n",
              "      <td>Sons of ****, why couldn`t they put them on t...</td>\n",
              "      <td>Sons of ****,</td>\n",
              "      <td>negative</td>\n",
              "      <td>noon</td>\n",
              "      <td>60-70</td>\n",
              "      <td>Angola</td>\n",
              "      <td>32866272</td>\n",
              "      <td>1246700.0</td>\n",
              "      <td>26</td>\n",
              "    </tr>\n",
              "    <tr>\n",
              "      <th>5</th>\n",
              "      <td>28b57f3990</td>\n",
              "      <td>http://www.dothebouncy.com/smf - some shameles...</td>\n",
              "      <td>http://www.dothebouncy.com/smf - some shameles...</td>\n",
              "      <td>neutral</td>\n",
              "      <td>night</td>\n",
              "      <td>70-100</td>\n",
              "      <td>Antigua and Barbuda</td>\n",
              "      <td>97929</td>\n",
              "      <td>440.0</td>\n",
              "      <td>223</td>\n",
              "    </tr>\n",
              "    <tr>\n",
              "      <th>6</th>\n",
              "      <td>6e0c6d75b1</td>\n",
              "      <td>2am feedings for the baby are fun when he is a...</td>\n",
              "      <td>fun</td>\n",
              "      <td>positive</td>\n",
              "      <td>morning</td>\n",
              "      <td>0-20</td>\n",
              "      <td>Argentina</td>\n",
              "      <td>45195774</td>\n",
              "      <td>2736690.0</td>\n",
              "      <td>17</td>\n",
              "    </tr>\n",
              "    <tr>\n",
              "      <th>7</th>\n",
              "      <td>50e14c0bb8</td>\n",
              "      <td>Soooo high</td>\n",
              "      <td>Soooo high</td>\n",
              "      <td>neutral</td>\n",
              "      <td>noon</td>\n",
              "      <td>21-30</td>\n",
              "      <td>Armenia</td>\n",
              "      <td>2963243</td>\n",
              "      <td>28470.0</td>\n",
              "      <td>104</td>\n",
              "    </tr>\n",
              "    <tr>\n",
              "      <th>8</th>\n",
              "      <td>e050245fbd</td>\n",
              "      <td>Both of you</td>\n",
              "      <td>Both of you</td>\n",
              "      <td>neutral</td>\n",
              "      <td>night</td>\n",
              "      <td>31-45</td>\n",
              "      <td>Australia</td>\n",
              "      <td>25499884</td>\n",
              "      <td>7682300.0</td>\n",
              "      <td>3</td>\n",
              "    </tr>\n",
              "    <tr>\n",
              "      <th>9</th>\n",
              "      <td>fc2cbefa9d</td>\n",
              "      <td>Journey!? Wow... u just became cooler.  hehe....</td>\n",
              "      <td>Wow... u just became cooler.</td>\n",
              "      <td>positive</td>\n",
              "      <td>morning</td>\n",
              "      <td>46-60</td>\n",
              "      <td>Austria</td>\n",
              "      <td>9006398</td>\n",
              "      <td>82400.0</td>\n",
              "      <td>109</td>\n",
              "    </tr>\n",
              "  </tbody>\n",
              "</table>\n",
              "</div>\n",
              "    <div class=\"colab-df-buttons\">\n",
              "\n",
              "  <div class=\"colab-df-container\">\n",
              "    <button class=\"colab-df-convert\" onclick=\"convertToInteractive('df-a2a3bdaf-8c20-416f-bf8d-ab7748e29781')\"\n",
              "            title=\"Convert this dataframe to an interactive table.\"\n",
              "            style=\"display:none;\">\n",
              "\n",
              "  <svg xmlns=\"http://www.w3.org/2000/svg\" height=\"24px\" viewBox=\"0 -960 960 960\">\n",
              "    <path d=\"M120-120v-720h720v720H120Zm60-500h600v-160H180v160Zm220 220h160v-160H400v160Zm0 220h160v-160H400v160ZM180-400h160v-160H180v160Zm440 0h160v-160H620v160ZM180-180h160v-160H180v160Zm440 0h160v-160H620v160Z\"/>\n",
              "  </svg>\n",
              "    </button>\n",
              "\n",
              "  <style>\n",
              "    .colab-df-container {\n",
              "      display:flex;\n",
              "      gap: 12px;\n",
              "    }\n",
              "\n",
              "    .colab-df-convert {\n",
              "      background-color: #E8F0FE;\n",
              "      border: none;\n",
              "      border-radius: 50%;\n",
              "      cursor: pointer;\n",
              "      display: none;\n",
              "      fill: #1967D2;\n",
              "      height: 32px;\n",
              "      padding: 0 0 0 0;\n",
              "      width: 32px;\n",
              "    }\n",
              "\n",
              "    .colab-df-convert:hover {\n",
              "      background-color: #E2EBFA;\n",
              "      box-shadow: 0px 1px 2px rgba(60, 64, 67, 0.3), 0px 1px 3px 1px rgba(60, 64, 67, 0.15);\n",
              "      fill: #174EA6;\n",
              "    }\n",
              "\n",
              "    .colab-df-buttons div {\n",
              "      margin-bottom: 4px;\n",
              "    }\n",
              "\n",
              "    [theme=dark] .colab-df-convert {\n",
              "      background-color: #3B4455;\n",
              "      fill: #D2E3FC;\n",
              "    }\n",
              "\n",
              "    [theme=dark] .colab-df-convert:hover {\n",
              "      background-color: #434B5C;\n",
              "      box-shadow: 0px 1px 3px 1px rgba(0, 0, 0, 0.15);\n",
              "      filter: drop-shadow(0px 1px 2px rgba(0, 0, 0, 0.3));\n",
              "      fill: #FFFFFF;\n",
              "    }\n",
              "  </style>\n",
              "\n",
              "    <script>\n",
              "      const buttonEl =\n",
              "        document.querySelector('#df-a2a3bdaf-8c20-416f-bf8d-ab7748e29781 button.colab-df-convert');\n",
              "      buttonEl.style.display =\n",
              "        google.colab.kernel.accessAllowed ? 'block' : 'none';\n",
              "\n",
              "      async function convertToInteractive(key) {\n",
              "        const element = document.querySelector('#df-a2a3bdaf-8c20-416f-bf8d-ab7748e29781');\n",
              "        const dataTable =\n",
              "          await google.colab.kernel.invokeFunction('convertToInteractive',\n",
              "                                                    [key], {});\n",
              "        if (!dataTable) return;\n",
              "\n",
              "        const docLinkHtml = 'Like what you see? Visit the ' +\n",
              "          '<a target=\"_blank\" href=https://colab.research.google.com/notebooks/data_table.ipynb>data table notebook</a>'\n",
              "          + ' to learn more about interactive tables.';\n",
              "        element.innerHTML = '';\n",
              "        dataTable['output_type'] = 'display_data';\n",
              "        await google.colab.output.renderOutput(dataTable, element);\n",
              "        const docLink = document.createElement('div');\n",
              "        docLink.innerHTML = docLinkHtml;\n",
              "        element.appendChild(docLink);\n",
              "      }\n",
              "    </script>\n",
              "  </div>\n",
              "\n",
              "\n",
              "<div id=\"df-97c53fdd-9df3-4549-9331-5a827ce43e2e\">\n",
              "  <button class=\"colab-df-quickchart\" onclick=\"quickchart('df-97c53fdd-9df3-4549-9331-5a827ce43e2e')\"\n",
              "            title=\"Suggest charts\"\n",
              "            style=\"display:none;\">\n",
              "\n",
              "<svg xmlns=\"http://www.w3.org/2000/svg\" height=\"24px\"viewBox=\"0 0 24 24\"\n",
              "     width=\"24px\">\n",
              "    <g>\n",
              "        <path d=\"M19 3H5c-1.1 0-2 .9-2 2v14c0 1.1.9 2 2 2h14c1.1 0 2-.9 2-2V5c0-1.1-.9-2-2-2zM9 17H7v-7h2v7zm4 0h-2V7h2v10zm4 0h-2v-4h2v4z\"/>\n",
              "    </g>\n",
              "</svg>\n",
              "  </button>\n",
              "\n",
              "<style>\n",
              "  .colab-df-quickchart {\n",
              "      --bg-color: #E8F0FE;\n",
              "      --fill-color: #1967D2;\n",
              "      --hover-bg-color: #E2EBFA;\n",
              "      --hover-fill-color: #174EA6;\n",
              "      --disabled-fill-color: #AAA;\n",
              "      --disabled-bg-color: #DDD;\n",
              "  }\n",
              "\n",
              "  [theme=dark] .colab-df-quickchart {\n",
              "      --bg-color: #3B4455;\n",
              "      --fill-color: #D2E3FC;\n",
              "      --hover-bg-color: #434B5C;\n",
              "      --hover-fill-color: #FFFFFF;\n",
              "      --disabled-bg-color: #3B4455;\n",
              "      --disabled-fill-color: #666;\n",
              "  }\n",
              "\n",
              "  .colab-df-quickchart {\n",
              "    background-color: var(--bg-color);\n",
              "    border: none;\n",
              "    border-radius: 50%;\n",
              "    cursor: pointer;\n",
              "    display: none;\n",
              "    fill: var(--fill-color);\n",
              "    height: 32px;\n",
              "    padding: 0;\n",
              "    width: 32px;\n",
              "  }\n",
              "\n",
              "  .colab-df-quickchart:hover {\n",
              "    background-color: var(--hover-bg-color);\n",
              "    box-shadow: 0 1px 2px rgba(60, 64, 67, 0.3), 0 1px 3px 1px rgba(60, 64, 67, 0.15);\n",
              "    fill: var(--button-hover-fill-color);\n",
              "  }\n",
              "\n",
              "  .colab-df-quickchart-complete:disabled,\n",
              "  .colab-df-quickchart-complete:disabled:hover {\n",
              "    background-color: var(--disabled-bg-color);\n",
              "    fill: var(--disabled-fill-color);\n",
              "    box-shadow: none;\n",
              "  }\n",
              "\n",
              "  .colab-df-spinner {\n",
              "    border: 2px solid var(--fill-color);\n",
              "    border-color: transparent;\n",
              "    border-bottom-color: var(--fill-color);\n",
              "    animation:\n",
              "      spin 1s steps(1) infinite;\n",
              "  }\n",
              "\n",
              "  @keyframes spin {\n",
              "    0% {\n",
              "      border-color: transparent;\n",
              "      border-bottom-color: var(--fill-color);\n",
              "      border-left-color: var(--fill-color);\n",
              "    }\n",
              "    20% {\n",
              "      border-color: transparent;\n",
              "      border-left-color: var(--fill-color);\n",
              "      border-top-color: var(--fill-color);\n",
              "    }\n",
              "    30% {\n",
              "      border-color: transparent;\n",
              "      border-left-color: var(--fill-color);\n",
              "      border-top-color: var(--fill-color);\n",
              "      border-right-color: var(--fill-color);\n",
              "    }\n",
              "    40% {\n",
              "      border-color: transparent;\n",
              "      border-right-color: var(--fill-color);\n",
              "      border-top-color: var(--fill-color);\n",
              "    }\n",
              "    60% {\n",
              "      border-color: transparent;\n",
              "      border-right-color: var(--fill-color);\n",
              "    }\n",
              "    80% {\n",
              "      border-color: transparent;\n",
              "      border-right-color: var(--fill-color);\n",
              "      border-bottom-color: var(--fill-color);\n",
              "    }\n",
              "    90% {\n",
              "      border-color: transparent;\n",
              "      border-bottom-color: var(--fill-color);\n",
              "    }\n",
              "  }\n",
              "</style>\n",
              "\n",
              "  <script>\n",
              "    async function quickchart(key) {\n",
              "      const quickchartButtonEl =\n",
              "        document.querySelector('#' + key + ' button');\n",
              "      quickchartButtonEl.disabled = true;  // To prevent multiple clicks.\n",
              "      quickchartButtonEl.classList.add('colab-df-spinner');\n",
              "      try {\n",
              "        const charts = await google.colab.kernel.invokeFunction(\n",
              "            'suggestCharts', [key], {});\n",
              "      } catch (error) {\n",
              "        console.error('Error during call to suggestCharts:', error);\n",
              "      }\n",
              "      quickchartButtonEl.classList.remove('colab-df-spinner');\n",
              "      quickchartButtonEl.classList.add('colab-df-quickchart-complete');\n",
              "    }\n",
              "    (() => {\n",
              "      let quickchartButtonEl =\n",
              "        document.querySelector('#df-97c53fdd-9df3-4549-9331-5a827ce43e2e button');\n",
              "      quickchartButtonEl.style.display =\n",
              "        google.colab.kernel.accessAllowed ? 'block' : 'none';\n",
              "    })();\n",
              "  </script>\n",
              "</div>\n",
              "    </div>\n",
              "  </div>\n"
            ],
            "application/vnd.google.colaboratory.intrinsic+json": {
              "type": "dataframe",
              "variable_name": "df",
              "summary": "{\n  \"name\": \"df\",\n  \"rows\": 27481,\n  \"fields\": [\n    {\n      \"column\": \"textID\",\n      \"properties\": {\n        \"dtype\": \"string\",\n        \"num_unique_values\": 27481,\n        \"samples\": [\n          \"a7f72a928a\",\n          \"ef42dee96c\",\n          \"07d17131b1\"\n        ],\n        \"semantic_type\": \"\",\n        \"description\": \"\"\n      }\n    },\n    {\n      \"column\": \"text\",\n      \"properties\": {\n        \"dtype\": \"string\",\n        \"num_unique_values\": 27480,\n        \"samples\": [\n          \" Enjoy! Family trumps everything\",\n          \" --of them kinda turns me off of it all.  And then I buy more of them and dig a deeper hole, etc. ;;\",\n          \"Clive it`s my birthday pat me  http://apps.facebook.com/dogbook/profile/view/6386106\"\n        ],\n        \"semantic_type\": \"\",\n        \"description\": \"\"\n      }\n    },\n    {\n      \"column\": \"selected_text\",\n      \"properties\": {\n        \"dtype\": \"string\",\n        \"num_unique_values\": 22430,\n        \"samples\": [\n          \"that is why I drive a (teeny tiny) honda civic\",\n          \"Sorry...but, I bet they aren`t that bad...\",\n          \"yummy\"\n        ],\n        \"semantic_type\": \"\",\n        \"description\": \"\"\n      }\n    },\n    {\n      \"column\": \"sentiment\",\n      \"properties\": {\n        \"dtype\": \"category\",\n        \"num_unique_values\": 3,\n        \"samples\": [\n          \"neutral\",\n          \"negative\",\n          \"positive\"\n        ],\n        \"semantic_type\": \"\",\n        \"description\": \"\"\n      }\n    },\n    {\n      \"column\": \"Time of Tweet\",\n      \"properties\": {\n        \"dtype\": \"category\",\n        \"num_unique_values\": 3,\n        \"samples\": [\n          \"morning\",\n          \"noon\",\n          \"night\"\n        ],\n        \"semantic_type\": \"\",\n        \"description\": \"\"\n      }\n    },\n    {\n      \"column\": \"Age of User\",\n      \"properties\": {\n        \"dtype\": \"category\",\n        \"num_unique_values\": 6,\n        \"samples\": [\n          \"0-20\",\n          \"21-30\",\n          \"70-100\"\n        ],\n        \"semantic_type\": \"\",\n        \"description\": \"\"\n      }\n    },\n    {\n      \"column\": \"Country\",\n      \"properties\": {\n        \"dtype\": \"category\",\n        \"num_unique_values\": 195,\n        \"samples\": [\n          \"Philippines\",\n          \"Belgium\",\n          \"Sierra Leone\"\n        ],\n        \"semantic_type\": \"\",\n        \"description\": \"\"\n      }\n    },\n    {\n      \"column\": \"Population -2020\",\n      \"properties\": {\n        \"dtype\": \"number\",\n        \"std\": 150494590,\n        \"min\": 801,\n        \"max\": 1439323776,\n        \"num_unique_values\": 195,\n        \"samples\": [\n          109581078,\n          11589623,\n          7976983\n        ],\n        \"semantic_type\": \"\",\n        \"description\": \"\"\n      }\n    },\n    {\n      \"column\": \"Land Area (Km\\u00b2)\",\n      \"properties\": {\n        \"dtype\": \"number\",\n        \"std\": 1807424.6900064738,\n        \"min\": 0.0,\n        \"max\": 16376870.0,\n        \"num_unique_values\": 193,\n        \"samples\": [\n          2267050.0,\n          1280000.0,\n          100250.0\n        ],\n        \"semantic_type\": \"\",\n        \"description\": \"\"\n      }\n    },\n    {\n      \"column\": \"Density (P/Km\\u00b2)\",\n      \"properties\": {\n        \"dtype\": \"number\",\n        \"std\": 2013,\n        \"min\": 2,\n        \"max\": 26337,\n        \"num_unique_values\": 136,\n        \"samples\": [\n          400,\n          71,\n          331\n        ],\n        \"semantic_type\": \"\",\n        \"description\": \"\"\n      }\n    }\n  ]\n}"
            }
          },
          "metadata": {},
          "execution_count": 2
        }
      ],
      "source": [
        "# from google.colab import drive\n",
        "# drive.mount('/content/drive')\n",
        "# column_names = ['sentiment', 'id', 'date', 'query', 'name', 'text']\n",
        "df = pd.read_csv('/content/sample_data/train.csv', encoding='latin1')\n",
        "# df.drop(columns=['Unnamed: 0'], inplace=True)\n",
        "df.head(10)\n",
        "\n"
      ]
    },
    {
      "cell_type": "code",
      "source": [
        "# df = df.sample(frac=1).reset_index(drop=True)"
      ],
      "metadata": {
        "id": "JRKAG78NRH19"
      },
      "execution_count": null,
      "outputs": []
    },
    {
      "cell_type": "code",
      "source": [
        "df.shape\n"
      ],
      "metadata": {
        "colab": {
          "base_uri": "https://localhost:8080/"
        },
        "id": "gYW4cyXMkfo_",
        "outputId": "f3b98596-e29d-4f15-ac6f-4085b445370f"
      },
      "execution_count": null,
      "outputs": [
        {
          "output_type": "execute_result",
          "data": {
            "text/plain": [
              "(27481, 10)"
            ]
          },
          "metadata": {},
          "execution_count": 4
        }
      ]
    },
    {
      "cell_type": "code",
      "source": [
        "df= df.dropna()"
      ],
      "metadata": {
        "id": "Oc7re447kpsa"
      },
      "execution_count": null,
      "outputs": []
    },
    {
      "cell_type": "code",
      "source": [
        "print(df.isnull().sum())"
      ],
      "metadata": {
        "colab": {
          "base_uri": "https://localhost:8080/"
        },
        "id": "08pPnMr7khEc",
        "outputId": "92e6e4ee-b077-40ab-9fd0-b34cda341ae5"
      },
      "execution_count": null,
      "outputs": [
        {
          "output_type": "stream",
          "name": "stdout",
          "text": [
            "textID              0\n",
            "text                0\n",
            "selected_text       0\n",
            "sentiment           0\n",
            "Time of Tweet       0\n",
            "Age of User         0\n",
            "Country             0\n",
            "Population -2020    0\n",
            "Land Area (Km²)     0\n",
            "Density (P/Km²)     0\n",
            "dtype: int64\n"
          ]
        }
      ]
    },
    {
      "cell_type": "code",
      "source": [
        "label_counts = df['sentiment'].value_counts()\n",
        "plt.figure(figsize=(8, 6))\n",
        "plt.bar(label_counts.index, label_counts.values)\n",
        "plt.xlabel('Sentiment')\n",
        "plt.ylabel('Frequency')\n",
        "plt.title('Frequency Sentiment Analysis')\n",
        "plt.show()"
      ],
      "metadata": {
        "colab": {
          "base_uri": "https://localhost:8080/",
          "height": 564
        },
        "id": "S9ZPKWTPkild",
        "outputId": "d5cf524f-7ea6-413f-c2d2-64817357cbff"
      },
      "execution_count": null,
      "outputs": [
        {
          "output_type": "display_data",
          "data": {
            "text/plain": [
              "<Figure size 800x600 with 1 Axes>"
            ],
            "image/png": "[encoded data removed]"
          },
          "metadata": {}
        }
      ]
    },
    {
      "cell_type": "code",
      "source": [
        "from imblearn.over_sampling import RandomOverSampler\n",
        "from imblearn.under_sampling import RandomUnderSampler\n",
        "\n",
        "\n",
        "X = df[['text']]\n",
        "y = df['sentiment']\n",
        "\n",
        "\n",
        "target_size = 7500\n",
        "label_counts = y.value_counts()\n",
        "\n",
        "\n",
        "oversample_strategy = {label: target_size for label, count in label_counts.items() if count < target_size}\n",
        "\n",
        "undersample_strategy = {label: target_size for label, count in label_counts.items() if count > target_size}\n",
        "\n",
        "\n",
        "over_sampler = RandomOverSampler(sampling_strategy=oversample_strategy, random_state=22)\n",
        "under_sampler = RandomUnderSampler(sampling_strategy=undersample_strategy, random_state=22)\n",
        "\n",
        "\n",
        "X_over, y_over = over_sampler.fit_resample(X, y)\n",
        "\n",
        "\n",
        "X_balanced, y_balanced = under_sampler.fit_resample(X_over, y_over)\n",
        "\n",
        "\n"
      ],
      "metadata": {
        "id": "rXjwIRrTklZK"
      },
      "execution_count": null,
      "outputs": []
    },
    {
      "cell_type": "code",
      "source": [
        "balanced_df = pd.DataFrame({\n",
        "    'text': np.ravel(X_balanced),\n",
        "    'sentiment': y_balanced\n",
        "})\n",
        "\n",
        "\n",
        "print(balanced_df)"
      ],
      "metadata": {
        "colab": {
          "base_uri": "https://localhost:8080/"
        },
        "id": "wgRt-jcOnz41",
        "outputId": "69e6b115-61de-42c4-eefe-36bafe2cb008"
      },
      "execution_count": null,
      "outputs": [
        {
          "output_type": "stream",
          "name": "stdout",
          "text": [
            "                                                    text sentiment\n",
            "0                       in bucher`s class?! i cried too!  negative\n",
            "1      Drinking and smoking is very bad.---but im gro...  negative\n",
            "2      waiting for sleeping pills to kick in... gonna...  negative\n",
            "3      chillin after a LOOOONNNGGG day of basketball ...  negative\n",
            "4                 feeling sick. headache. bored. tireddd  negative\n",
            "...                                                  ...       ...\n",
            "22495        its funny, I didn`t even know it was there!  positive\n",
            "22496  Found out that one great thing about living in...  positive\n",
            "22497                    THANK YYYYYYYYYOOOOOOOOOOUUUUU!  positive\n",
            "22498   aah. well, have a few friends over there. Jus...  positive\n",
            "22499  http://tinyurl.com/ry9wap Hi!!! You are pretty...  positive\n",
            "\n",
            "[22500 rows x 2 columns]\n"
          ]
        }
      ]
    },
    {
      "cell_type": "code",
      "source": [
        "label_counts = balanced_df['sentiment'].value_counts()\n",
        "plt.figure(figsize=(8, 6))\n",
        "plt.bar(label_counts.index, label_counts.values)\n",
        "plt.xlabel('Sentiment')\n",
        "plt.ylabel('Frequency')\n",
        "plt.title('Frequency of Sentiment')\n",
        "plt.show()"
      ],
      "metadata": {
        "colab": {
          "base_uri": "https://localhost:8080/",
          "height": 564
        },
        "id": "xqpERWuZkoTc",
        "outputId": "f464f48a-5398-44fa-f757-cbdb05f23928"
      },
      "execution_count": null,
      "outputs": [
        {
          "output_type": "display_data",
          "data": {
            "text/plain": [
              "<Figure size 800x600 with 1 Axes>"
            ],
            "image/png": "[encoded data removed]"
          },
          "metadata": {}
        }
      ]
    },
    {
      "cell_type": "code",
      "source": [
        "mbti_labels = {\n",
        "   'negative':0, 'positive':1, 'neutral':2\n",
        "}\n",
        "\n",
        "def transform_label(data):\n",
        "  label = data['sentiment']\n",
        "  num = mbti_labels[label]\n",
        "  return num\n",
        "\n",
        "balanced_df['sentiment'] = balanced_df.apply(transform_label, axis=1)\n",
        "\n",
        "print(balanced_df['sentiment'])"
      ],
      "metadata": {
        "colab": {
          "base_uri": "https://localhost:8080/"
        },
        "id": "RRrA5scrkp7x",
        "outputId": "8d9e7d46-9759-4288-ca2e-41748b87cb98"
      },
      "execution_count": null,
      "outputs": [
        {
          "output_type": "stream",
          "name": "stdout",
          "text": [
            "0        0\n",
            "1        0\n",
            "2        0\n",
            "3        0\n",
            "4        0\n",
            "        ..\n",
            "22495    1\n",
            "22496    1\n",
            "22497    1\n",
            "22498    1\n",
            "22499    1\n",
            "Name: sentiment, Length: 22500, dtype: int64\n"
          ]
        }
      ]
    },
    {
      "cell_type": "code",
      "source": [
        "print(balanced_df['text'])\n",
        "\n"
      ],
      "metadata": {
        "colab": {
          "base_uri": "https://localhost:8080/"
        },
        "id": "9bniRRr5krqA",
        "outputId": "80649d08-a74b-4638-dd4e-38943b8276ac"
      },
      "execution_count": null,
      "outputs": [
        {
          "output_type": "stream",
          "name": "stdout",
          "text": [
            "0                         in bucher`s class?! i cried too!\n",
            "1        Drinking and smoking is very bad.---but im gro...\n",
            "2        waiting for sleeping pills to kick in... gonna...\n",
            "3        chillin after a LOOOONNNGGG day of basketball ...\n",
            "4                   feeling sick. headache. bored. tireddd\n",
            "                               ...                        \n",
            "22495          its funny, I didn`t even know it was there!\n",
            "22496    Found out that one great thing about living in...\n",
            "22497                      THANK YYYYYYYYYOOOOOOOOOOUUUUU!\n",
            "22498     aah. well, have a few friends over there. Jus...\n",
            "22499    http://tinyurl.com/ry9wap Hi!!! You are pretty...\n",
            "Name: text, Length: 22500, dtype: object\n"
          ]
        }
      ]
    },
    {
      "cell_type": "code",
      "source": [
        "def combine_tweets(text):\n",
        "    return text.replace('|||', ' ')"
      ],
      "metadata": {
        "id": "nkK6mmamks3p"
      },
      "execution_count": null,
      "outputs": []
    },
    {
      "cell_type": "code",
      "source": [
        "balanced_df['text'] = balanced_df['text'].apply(combine_tweets)\n",
        "print(balanced_df['text'])"
      ],
      "metadata": {
        "colab": {
          "base_uri": "https://localhost:8080/"
        },
        "id": "ksQGhUgykt_I",
        "outputId": "8c090d27-0918-40a8-db8f-44fc2c1129e5"
      },
      "execution_count": null,
      "outputs": [
        {
          "output_type": "stream",
          "name": "stdout",
          "text": [
            "0                         in bucher`s class?! i cried too!\n",
            "1        Drinking and smoking is very bad.---but im gro...\n",
            "2        waiting for sleeping pills to kick in... gonna...\n",
            "3        chillin after a LOOOONNNGGG day of basketball ...\n",
            "4                   feeling sick. headache. bored. tireddd\n",
            "                               ...                        \n",
            "22495          its funny, I didn`t even know it was there!\n",
            "22496    Found out that one great thing about living in...\n",
            "22497                      THANK YYYYYYYYYOOOOOOOOOOUUUUU!\n",
            "22498     aah. well, have a few friends over there. Jus...\n",
            "22499    http://tinyurl.com/ry9wap Hi!!! You are pretty...\n",
            "Name: text, Length: 22500, dtype: object\n"
          ]
        }
      ]
    },
    {
      "cell_type": "code",
      "source": [
        "#Removes links, tags (@username), emojis, punctuation\n",
        "def preprocess(text):\n",
        "  text = re.sub(r'@\\w+', '', text)\n",
        "  text = re.sub(r'\\bhttps\\S+\\b', '', text)\n",
        "  text = re.sub(r'[^\\w\\s]', '', text)\n",
        "  text = re.sub(r'\\s+', ' ', text).strip()\n",
        "  return text\n",
        "\n",
        "balanced_df['text'] = balanced_df['text'].apply(preprocess)\n",
        "print(balanced_df['text'])"
      ],
      "metadata": {
        "colab": {
          "base_uri": "https://localhost:8080/"
        },
        "id": "xoXVMzKCkvPn",
        "outputId": "831dceff-6e48-4042-d417-1c8796bd86f7"
      },
      "execution_count": null,
      "outputs": [
        {
          "output_type": "stream",
          "name": "stdout",
          "text": [
            "0                             in buchers class i cried too\n",
            "1         Drinking and smoking is very badbut im grown tho\n",
            "2        waiting for sleeping pills to kick in gonna be...\n",
            "3        chillin after a LOOOONNNGGG day of basketball ...\n",
            "4                      feeling sick headache bored tireddd\n",
            "                               ...                        \n",
            "22495             its funny I didnt even know it was there\n",
            "22496    Found out that one great thing about living in...\n",
            "22497                       THANK YYYYYYYYYOOOOOOOOOOUUUUU\n",
            "22498    aah well have a few friends over there Just wo...\n",
            "22499    httptinyurlcomry9wap Hi You are pretty man I c...\n",
            "Name: text, Length: 22500, dtype: object\n"
          ]
        }
      ]
    },
    {
      "cell_type": "code",
      "source": [
        "ENGLISH_STOPWORDS = stopwords.words('english')\n",
        "PUNCTUATIONS = string.punctuation\n",
        "LEMMATIZER = WordNetLemmatizer()"
      ],
      "metadata": {
        "id": "Mjw2KpYZkvx9"
      },
      "execution_count": null,
      "outputs": []
    },
    {
      "cell_type": "code",
      "source": [
        "def preprocess_2(text):\n",
        "  text = word_tokenize(text)\n",
        "  text = [word for word in text if word not in ENGLISH_STOPWORDS]\n",
        "  text = [LEMMATIZER.lemmatize(word) for word in text]\n",
        "  text = [word for word in text if word not in string.punctuation]\n",
        "  text = [word for word in text if word.isalpha()]\n",
        "  return text\n",
        "balanced_df['text'] = balanced_df['text'].apply(preprocess_2)\n",
        "print(balanced_df['text'])"
      ],
      "metadata": {
        "colab": {
          "base_uri": "https://localhost:8080/"
        },
        "id": "ULfdh9PTlEJc",
        "outputId": "5b42f459-efb8-4886-96f4-5338c733a608"
      },
      "execution_count": null,
      "outputs": [
        {
          "output_type": "stream",
          "name": "stdout",
          "text": [
            "0                                  [buchers, class, cried]\n",
            "1              [Drinking, smoking, badbut, im, grown, tho]\n",
            "2        [waiting, sleeping, pill, kick, gon, na, tired...\n",
            "3        [chillin, LOOOONNNGGG, day, basketball, hella,...\n",
            "4                [feeling, sick, headache, bored, tireddd]\n",
            "                               ...                        \n",
            "22495                        [funny, I, didnt, even, know]\n",
            "22496    [Found, one, great, thing, living, Switzerland...\n",
            "22497                    [THANK, YYYYYYYYYOOOOOOOOOOUUUUU]\n",
            "22498    [aah, well, friend, Just, wondering, alls, gre...\n",
            "22499    [Hi, You, pretty, man, I, cant, upload, pic, r...\n",
            "Name: text, Length: 22500, dtype: object\n"
          ]
        }
      ]
    },
    {
      "cell_type": "code",
      "source": [
        "train, eval = train_test_split(balanced_df,train_size=0.9,stratify=balanced_df['sentiment'], random_state = 42)\n",
        "\n",
        "def tokens_to_features(tokens):\n",
        "    return {token: True for token in tokens}\n",
        "\n",
        "train_set = [(tokens_to_features(tokens), label) for tokens, label in zip(train['text'], train['sentiment'])]\n",
        "eval_set = [(tokens_to_features(tokens), label) for tokens, label in zip(eval['text'], eval['sentiment'])]\n",
        "\n",
        "print(train_set[0:10])\n",
        "print(eval_set[0:10])\n",
        "\n"
      ],
      "metadata": {
        "colab": {
          "base_uri": "https://localhost:8080/"
        },
        "id": "3vjOjFtIpjFZ",
        "outputId": "5ae051a8-cea7-4a2c-a80e-df88a45dff18"
      },
      "execution_count": null,
      "outputs": [
        {
          "output_type": "stream",
          "name": "stdout",
          "text": [
            "[({'I': True, 'saying': True, 'thing': True, 'yesterday': True, 'So': True, 'droped': True, 'tweet': True, 'No': True, 'smarted': True, 'bussiness': True, 'wise': True, 'find': True, 'real': True, 'people': True}, 2), ({'I': True, 'wish': True, 'could': True, 'sleep': True, 'past': True, 'four': True, 'night': True, 'good': True, 'morning': True}, 1), ({'I': True, 'lost': True, 'first': True, 'Field': True, 'Notes': True, 'notebook': True, 'page': True, 'filling': True, 'RIP': True, 'fieldnotes': True}, 0), ({'FireflyThats': True, 'Nathan': True, 'Fillion': True}, 2), ({'I': True, 'never': True, 'thought': True, 'Id': True, 'die': True, 'alone': True, 'Another': True, 'six': True, 'month': True, 'Ill': True, 'unknown': True}, 0), ({'aww': True, 'anyone': True, 'see': True, 'hollie': True, 'steel': True, 'BGT': True, 'tonight': True, 'wharra': True, 'shame': True}, 0), ({'Thanks': True, 'well': True, 'wish': True, 'hope': True, 'ur': True, 'day': True, 'also': True, 'quite': True, 'successful': True}, 1), ({'sadly': True, 'sitting': True, 'inside': True, 'mobile': True, 'signal': True, 'wont': True, 'work': True, 'garden': True, 'Ill': True, 'opening': True, 'wine': True, 'bang': True, 'though': True}, 0), ({'Watching': True, 'Ripleys': True, 'Believe': True, 'Not': True, 'eatingbad': True, 'choice': True}, 0), ({'real': True, 'stressed': True}, 0)]\n",
            "[({'Microsoft': True, 'Announced': True, 'Windows': True, 'Release': True, 'Candidate': True, 'Download': True, 'available': True, 'tomorrow': True}, 2), ({'Haha': True, 'nice': True, 'Thanks': True, 'letting': True, 'know': True}, 1), ({'Yeah': True, 'Age': True, 'Aquarius': True, 'IS': True, 'pretty': True, 'scary': True, 'song': True}, 0), ({'Who': True, 'start': True, 'briefing': True, 'People': True, 'East': True, 'Coast': True, 'thats': True}, 2), ({'Im': True, 'hurtling': True, 'headlong': True, 'day': True, 'spanish': True, 'art': True, 'view': True, 'tomorrow': True, 'REVISION': True, 'extra': True, 'free': True}, 0), ({'Just': True, 'got': True, 'new': True, 'Ipod': True, 'Lifes': True, 'Good': True}, 1), ({'heyy': True, 'ok': True, 'know': True, 'suck': True, 'dorm': True, 'assure': True}, 2), ({'Thanks': True, 'lot': True, 'Youre': True, 'kind': True, 'I': True, 'got': True, 'back': True, 'nice': True, 'drive': True, 'Such': True, 'fun': True, 'car': True, 'Have': True, 'day': True}, 1), ({'finally': True, 'someone': True, 'recognizes': True, 'genius': True}, 1), ({'Good': True, 'morningafternoonnight': True, 'allstudying': True, 'usual': True}, 2)]\n"
          ]
        }
      ]
    },
    {
      "cell_type": "code",
      "source": [
        "classifier = NaiveBayesClassifier.train(train_set)\n",
        "\n",
        "predictions = [classifier.classify(features) for features, label in eval_set]\n",
        "true_labels = [label for features, label in eval_set]\n",
        "\n",
        "print(classification_report(true_labels, predictions))"
      ],
      "metadata": {
        "colab": {
          "base_uri": "https://localhost:8080/"
        },
        "id": "KubG1BjnG5Zy",
        "outputId": "2bd01b0a-b975-41dc-e7f3-b36e92b7eaec"
      },
      "execution_count": null,
      "outputs": [
        {
          "output_type": "stream",
          "name": "stdout",
          "text": [
            "              precision    recall  f1-score   support\n",
            "\n",
            "           0       0.61      0.76      0.67       750\n",
            "           1       0.65      0.76      0.70       750\n",
            "           2       0.55      0.32      0.41       750\n",
            "\n",
            "    accuracy                           0.61      2250\n",
            "   macro avg       0.60      0.61      0.59      2250\n",
            "weighted avg       0.60      0.61      0.59      2250\n",
            "\n"
          ]
        }
      ]
    },
    {
      "cell_type": "code",
      "source": [
        "X = balanced_df['text']\n",
        "y = balanced_df['sentiment']\n",
        "X = [' '.join(tokens) for tokens in X]\n",
        "\n",
        "X_train, X_test, y_train, y_test = train_test_split(X, y, train_size=0.9, random_state=42)\n",
        "\n",
        "vectorizer = CountVectorizer()\n",
        "X_train_vect = vectorizer.fit_transform(X_train)\n",
        "X_test_vect = vectorizer.transform(X_test)\n",
        "\n",
        "clf = svm.SVC(kernel='rbf')\n",
        "clf.fit(X_train_vect, y_train)\n",
        "\n",
        "\n",
        "y_pred = clf.predict(X_test_vect)\n"
      ],
      "metadata": {
        "id": "6BpvqtIvEZye"
      },
      "execution_count": null,
      "outputs": []
    },
    {
      "cell_type": "code",
      "source": [
        "print(classification_report(y_test, y_pred))"
      ],
      "metadata": {
        "id": "q892IA9-UcB8",
        "colab": {
          "base_uri": "https://localhost:8080/"
        },
        "outputId": "bc4d2c70-e298-4b2a-ff04-f3b2b6c93018"
      },
      "execution_count": null,
      "outputs": [
        {
          "output_type": "stream",
          "name": "stdout",
          "text": [
            "              precision    recall  f1-score   support\n",
            "\n",
            "           0       0.74      0.63      0.68       750\n",
            "           1       0.80      0.72      0.76       767\n",
            "           2       0.57      0.71      0.63       733\n",
            "\n",
            "    accuracy                           0.69      2250\n",
            "   macro avg       0.70      0.69      0.69      2250\n",
            "weighted avg       0.70      0.69      0.69      2250\n",
            "\n"
          ]
        }
      ]
    },
    {
      "cell_type": "code",
      "source": [
        "import pandas as pd\n",
        "from sklearn.feature_extraction.text import CountVectorizer\n",
        "from sklearn import svm\n",
        "\n",
        "# Load the CSV file containing user input\n",
        "user_input_df = pd.read_csv('/content/sample_data/KingJames.csv')  # Update path to the CSV file\n",
        "\n",
        "user_input_df['tweet'] = user_input_df['tweet'].apply(preprocess)\n",
        "user_input_df['tweet'] = user_input_df['tweet'].apply(preprocess_2)\n",
        "\n",
        "# Join lists back into strings\n",
        "user_input_df['tweet'] = user_input_df['tweet'].apply(lambda x: ' '.join(x))\n",
        "\n",
        "# Combine all the preprocessed texts into a single string\n",
        "user_input_texts = user_input_df['tweet']\n",
        "combined_text = ' '.join(user_input_texts)\n",
        "\n",
        "# Assuming 'vectorizer' and 'clf' are already trained and defined\n",
        "# Vectorize the combined text\n",
        "combined_text_vect = vectorizer.transform([combined_text])\n",
        "\n",
        "# Predict the label for the combined text\n",
        "predicted_label = clf.predict(combined_text_vect)\n",
        "\n",
        "print(f\"Predicted label for the combined text: {predicted_label[0]}\")\n",
        "\n"
      ],
      "metadata": {
        "id": "GLx8woZcImZ-"
      },
      "execution_count": null,
      "outputs": []
    },
    {
      "cell_type": "code",
      "source": [
        "import pandas as pd\n",
        "from sklearn.feature_extraction.text import CountVectorizer\n",
        "from sklearn import svm\n",
        "\n",
        "# Load the CSV file containing user input\n",
        "user_input_df = pd.read_csv('/content/sample_data/KingJames.csv')  # Update path to the CSV file\n",
        "\n",
        "# Assuming the CSV file has a column named 'text' containing the input text\n",
        "user_input_texts = user_input_df['tweet']\n",
        "\n",
        "# Assuming 'vectorizer' and 'clf' are already trained and defined\n",
        "# Vectorize the user input text\n",
        "user_input_vect = vectorizer.transform(user_input_texts)\n",
        "\n",
        "# Predict labels for the user input\n",
        "predicted_labels = clf.predict(user_input_vect)\n",
        "\n",
        "# Add predicted labels to the user input DataFrame\n",
        "user_input_df['predicted_label'] = predicted_labels\n",
        "\n",
        "# Display the DataFrame with predicted labels\n",
        "print(user_input_df)"
      ],
      "metadata": {
        "colab": {
          "base_uri": "https://localhost:8080/"
        },
        "id": "VC2tfyewRIrm",
        "outputId": "ece7c418-0ef9-468a-d631-2eb21b7aa912"
      },
      "execution_count": null,
      "outputs": [
        {
          "output_type": "stream",
          "name": "stdout",
          "text": [
            "               twitter_id                       date  \\\n",
            "0     1546388845494558723  2022-07-11 07:00:05+00:00   \n",
            "1     1544418918323871751  2022-07-05 20:32:18+00:00   \n",
            "2     1544093398411395073  2022-07-04 22:58:48+00:00   \n",
            "3     1544061075427147777  2022-07-04 20:50:22+00:00   \n",
            "4     1543640126110240772  2022-07-03 16:57:40+00:00   \n",
            "...                   ...                        ...   \n",
            "3228   846163009638666240  2017-03-27 00:52:37+00:00   \n",
            "3229   846162618058526720  2017-03-27 00:51:03+00:00   \n",
            "3230   846162142000762880  2017-03-27 00:49:10+00:00   \n",
            "3231   846161690563690497  2017-03-27 00:47:22+00:00   \n",
            "3232   846161366461403140  2017-03-27 00:46:05+00:00   \n",
            "\n",
            "                                                  tweet  predicted_label  \n",
            "0            b'@bellachef19 Nectarine \\xf0\\x9f\\x8d\\x91'                2  \n",
            "1     b'@Jim_ICE \\xf0\\x9f\\xa4\\xa3\\xf0\\x9f\\xa4\\xa3\\xf...                0  \n",
            "2     b\"\\xf0\\x9f\\x94\\xa5\\xf0\\x9f\\x94\\xa5\\xf0\\x9f\\x94...                2  \n",
            "3     b'\\xf0\\x9f\\x98\\xa4\\xf0\\x9f\\x98\\xa4\\xf0\\x9f\\x98...                2  \n",
            "4     b'I \\xf0\\x9f\\x99\\x8f\\xf0\\x9f\\x8f\\xbe for my ci...                2  \n",
            "...                                                 ...              ...  \n",
            "3228  b\"Can't stand for it anymore because of I \\xe2...                0  \n",
            "3229  b'are out there please stop worrying about u a...                0  \n",
            "3230  b\"We need to be pushed, kicked, loved, then pu...                0  \n",
            "3231  b\"on how much they can benefit in the long run...                0  \n",
            "3232  b\"won't get on them because their afraid of lo...                0  \n",
            "\n",
            "[3233 rows x 4 columns]\n"
          ]
        }
      ]
    },
    {
      "cell_type": "code",
      "source": [
        "label_counts = user_input_df['predicted_label'].value_counts()\n",
        "plt.figure(figsize=(8, 6))\n",
        "plt.bar(label_counts.index, label_counts.values)\n",
        "plt.xlabel('Sentiment')\n",
        "plt.ylabel('Frequency')\n",
        "plt.title('Kingjames')\n",
        "plt.show()"
      ],
      "metadata": {
        "colab": {
          "base_uri": "https://localhost:8080/",
          "height": 564
        },
        "id": "I42J1_KARPzw",
        "outputId": "a7150048-f5b3-4c29-c8dc-d2576fd30d75"
      },
      "execution_count": null,
      "outputs": [
        {
          "output_type": "display_data",
          "data": {
            "text/plain": [
              "<Figure size 800x600 with 1 Axes>"
            ],
            "image/png": "[encoded data removed]"
          },
          "metadata": {}
        }
      ]
    },
    {
      "cell_type": "code",
      "source": [
        "import pandas as pd\n",
        "from sklearn.feature_extraction.text import CountVectorizer\n",
        "from sklearn import svm\n",
        "\n",
        "# Load the CSV file containing user input\n",
        "user_input_df = pd.read_csv('/content/sample_data/psy_oppa.csv')  # Update path to the CSV file\n",
        "\n",
        "# Assuming the CSV file has a column named 'text' containing the input text\n",
        "user_input_texts = user_input_df['tweet']\n",
        "\n",
        "# Assuming 'vectorizer' and 'clf' are already trained and defined\n",
        "# Vectorize the user input text\n",
        "user_input_vect = vectorizer.transform(user_input_texts)\n",
        "\n",
        "# Predict labels for the user input\n",
        "predicted_labels = clf.predict(user_input_vect)\n",
        "\n",
        "# Add predicted labels to the user input DataFrame\n",
        "user_input_df['predicted_label'] = predicted_labels\n",
        "\n",
        "# Display the DataFrame with predicted labels\n",
        "print(user_input_df)"
      ],
      "metadata": {
        "colab": {
          "base_uri": "https://localhost:8080/"
        },
        "id": "zrW7ms2sR4yh",
        "outputId": "fe51d568-4287-4d21-cfe9-7397084fdba3"
      },
      "execution_count": null,
      "outputs": [
        {
          "output_type": "stream",
          "name": "stdout",
          "text": [
            "               twitter_id                       date  \\\n",
            "0     1542673091469266944  2022-07-01 00:55:01+00:00   \n",
            "1     1539982120218550272  2022-06-23 14:42:03+00:00   \n",
            "2     1534806546168750080  2022-06-09 07:56:10+00:00   \n",
            "3     1534473815945666560  2022-06-08 09:54:01+00:00   \n",
            "4     1533302899794538498  2022-06-05 04:21:13+00:00   \n",
            "...                   ...                        ...   \n",
            "2810   395395963625304065  2013-10-30 03:45:18+00:00   \n",
            "2811   395384364361478147  2013-10-30 02:59:13+00:00   \n",
            "2812   395384223382532097  2013-10-30 02:58:39+00:00   \n",
            "2813   395349198154899456  2013-10-30 00:39:28+00:00   \n",
            "2814   395317869161902080  2013-10-29 22:34:59+00:00   \n",
            "\n",
            "                                                  tweet  predicted_label  \n",
            "0     b\"\\xed\\x97\\xa4\\xec\\x9d\\xb4\\xec\\xa6\\x88(Heize) ...                2  \n",
            "1     b\"PSY - '9INTRO' Performance Video https://t.c...                2  \n",
            "2     b\"RT @psy_oppa: PSY - 'That That (prod. &amp; ...                0  \n",
            "3     b\"PSY - 'That That (prod. &amp; feat. SUGA of ...                0  \n",
            "4     b\"RT @insight_co_kr: 3\\xeb\\x85\\x84 \\xeb\\xa7\\x8...                2  \n",
            "...                                                 ...              ...  \n",
            "2810  b'\\xec\\x8b\\xb8\\xea\\xb5\\xb0\\xec\\x9e\\x90\\xec\\x9e...                2  \n",
            "2811  b'\\xec\\x98\\x88\\xeb\\xa7\\xa4\\xec\\x8b\\x9c\\xec\\x9d...                2  \n",
            "2812  b'Tickets on SALE now!!! at\\nhttp://t.co/TovxB...                2  \n",
            "2813  b'Take a deep breath before click this pic!! \\...                2  \n",
            "2814  b'RT @RepublicRecords: Vote @PSY_oppa for Arti...                2  \n",
            "\n",
            "[2815 rows x 4 columns]\n"
          ]
        }
      ]
    },
    {
      "cell_type": "code",
      "source": [
        "label_counts = user_input_df['predicted_label'].value_counts()\n",
        "plt.figure(figsize=(8, 6))\n",
        "plt.bar(label_counts.index, label_counts.values)\n",
        "plt.xlabel('Sentiment')\n",
        "plt.ylabel('Frequency')\n",
        "plt.title('psy_oppa')\n",
        "plt.show()"
      ],
      "metadata": {
        "colab": {
          "base_uri": "https://localhost:8080/",
          "height": 564
        },
        "id": "9v1EZXJ2SB02",
        "outputId": "627c1d72-7927-4982-cbf3-288b759a40fc"
      },
      "execution_count": null,
      "outputs": [
        {
          "output_type": "display_data",
          "data": {
            "text/plain": [
              "<Figure size 800x600 with 1 Axes>"
            ],
            "image/png": "[encoded data removed]"
          },
          "metadata": {}
        }
      ]
    },
    {
      "cell_type": "code",
      "source": [
        "import pandas as pd\n",
        "from sklearn.feature_extraction.text import CountVectorizer\n",
        "from sklearn import svm\n",
        "\n",
        "# Load the CSV file containing user input\n",
        "user_input_df = pd.read_csv('/content/sample_data/Adele.csv')  # Update path to the CSV file\n",
        "\n",
        "# Assuming the CSV file has a column named 'text' containing the input text\n",
        "user_input_texts = user_input_df['tweet']\n",
        "\n",
        "# Assuming 'vectorizer' and 'clf' are already trained and defined\n",
        "# Vectorize the user input text\n",
        "user_input_vect = vectorizer.transform(user_input_texts)\n",
        "\n",
        "# Predict labels for the user input\n",
        "predicted_labels = clf.predict(user_input_vect)\n",
        "\n",
        "# Add predicted labels to the user input DataFrame\n",
        "user_input_df['predicted_label'] = predicted_labels\n",
        "\n",
        "# Display the DataFrame with predicted labels\n",
        "print(user_input_df)"
      ],
      "metadata": {
        "colab": {
          "base_uri": "https://localhost:8080/"
        },
        "id": "f_1bLy7MSF2K",
        "outputId": "02ccdb82-da77-4094-a9dc-34314182e9bf"
      },
      "execution_count": null,
      "outputs": [
        {
          "output_type": "stream",
          "name": "stdout",
          "text": [
            "              twitter_id                       date  \\\n",
            "0    1543973875687596033  2022-07-04 15:03:52+00:00   \n",
            "1    1543973499508752386  2022-07-04 15:02:22+00:00   \n",
            "2    1543254652807954439  2022-07-02 15:25:56+00:00   \n",
            "3    1543254498247835648  2022-07-02 15:25:19+00:00   \n",
            "4    1542530240060194816  2022-06-30 15:27:22+00:00   \n",
            "..                   ...                        ...   \n",
            "360          29513802932  2010-11-02 22:54:44+00:00   \n",
            "361          29419669509  2010-11-02 00:05:24+00:00   \n",
            "362          29104016829  2010-10-29 16:37:36+00:00   \n",
            "363          27248872792  2010-10-13 14:58:33+00:00   \n",
            "364          24503943707  2010-09-14 19:47:33+00:00   \n",
            "\n",
            "                                                 tweet  predicted_label  \n",
            "0    b'Thank you to my band and my crew for two sea...                0  \n",
            "1    b'Hyde Park Night 2! My heart is absolutely fu...                0  \n",
            "2    b'Thank you my loves, I can\\xe2\\x80\\x99t wait ...                1  \n",
            "3    b'Hyde Park Night 1! What a crowd!! https://t....                2  \n",
            "4    b'Who\\xe2\\x80\\x99s ready for tomorrow!? https:...                2  \n",
            "..                                                 ...              ...  \n",
            "360  b'RT @ColumbiaRecords: NEWS: Adele @OfficialAd...                2  \n",
            "361  b\"Head over to Adele's newly re-designed websi...                0  \n",
            "362  b'Adele has a new blog up at http://www.adele....                0  \n",
            "363  b'Adele has a new blog up at her website. Chec...                2  \n",
            "364  b\"Adele fans! Head over to @VEVO's Facebook pa...                0  \n",
            "\n",
            "[365 rows x 4 columns]\n"
          ]
        }
      ]
    },
    {
      "cell_type": "code",
      "source": [
        "label_counts = user_input_df['predicted_label'].value_counts()\n",
        "plt.figure(figsize=(8, 6))\n",
        "plt.bar(label_counts.index, label_counts.values)\n",
        "plt.xlabel('Sentiment')\n",
        "plt.ylabel('Frequency')\n",
        "plt.title('Adele')\n",
        "plt.show()"
      ],
      "metadata": {
        "colab": {
          "base_uri": "https://localhost:8080/",
          "height": 564
        },
        "id": "6Wu9avAqSdvp",
        "outputId": "3a97148b-0a08-4a64-acb8-60cd995915af"
      },
      "execution_count": null,
      "outputs": [
        {
          "output_type": "display_data",
          "data": {
            "text/plain": [
              "<Figure size 800x600 with 1 Axes>"
            ],
            "image/png": "[encoded data removed]"
          },
          "metadata": {}
        }
      ]
    },
    {
      "cell_type": "code",
      "source": [
        "import pandas as pd\n",
        "from sklearn.feature_extraction.text import CountVectorizer\n",
        "from sklearn import svm\n",
        "\n",
        "# Load the CSV file containing user input\n",
        "user_input_df = pd.read_csv('/content/sample_data/russwest44.csv')  # Update path to the CSV file\n",
        "\n",
        "# Assuming the CSV file has a column named 'text' containing the input text\n",
        "user_input_texts = user_input_df['tweet']\n",
        "\n",
        "# Assuming 'vectorizer' and 'clf' are already trained and defined\n",
        "# Vectorize the user input text\n",
        "user_input_vect = vectorizer.transform(user_input_texts)\n",
        "\n",
        "# Predict labels for the user input\n",
        "predicted_labels = clf.predict(user_input_vect)\n",
        "\n",
        "# Add predicted labels to the user input DataFrame\n",
        "user_input_df['predicted_label'] = predicted_labels\n",
        "\n",
        "# Display the DataFrame with predicted labels\n",
        "print(user_input_df)"
      ],
      "metadata": {
        "colab": {
          "base_uri": "https://localhost:8080/"
        },
        "id": "0rLZ5dlKSjyi",
        "outputId": "55f7a469-4980-4de2-e607-732a69d79692"
      },
      "execution_count": null,
      "outputs": [
        {
          "output_type": "stream",
          "name": "stdout",
          "text": [
            "               twitter_id                       date  \\\n",
            "0     1546603105978040320  2022-07-11 21:11:29+00:00   \n",
            "1     1546603097295912965  2022-07-11 21:11:27+00:00   \n",
            "2     1541786261395873792  2022-06-28 14:11:04+00:00   \n",
            "3     1540488261910597632  2022-06-25 00:13:17+00:00   \n",
            "4     1538909931033747456  2022-06-20 15:41:33+00:00   \n",
            "...                   ...                        ...   \n",
            "3206    37891924459257857  2011-02-16 15:11:53+00:00   \n",
            "3207    37891097594167299  2011-02-16 15:08:36+00:00   \n",
            "3208    37623084760436736  2011-02-15 21:23:37+00:00   \n",
            "3209    37181107275300864  2011-02-14 16:07:21+00:00   \n",
            "3210    36915266189262848  2011-02-13 22:30:59+00:00   \n",
            "\n",
            "                                                  tweet  predicted_label  \n",
            "0     b'Anybody that know my mom then they know lol....                2  \n",
            "1     b'My mom is who first got me into fashion &amp...                0  \n",
            "2                            b'https://t.co/y3V4P1GwS1'                2  \n",
            "3     b'Yoooo\\xe2\\x80\\xa6 watch your mouth. Don\\xe2\\...                2  \n",
            "4     b'Inspiring youth to dream big and chase their...                0  \n",
            "...                                                 ...              ...  \n",
            "3206                       b'@NH_Bird_LA wats good bro'                1  \n",
            "3207  b'Goodmorning tweet fam..heading too the airpo...                2  \n",
            "3208  b'Just finished talkn too fan now abt too head...                0  \n",
            "3209  b\"Goodmorning y'all ...wanna wish everyone a H...                1  \n",
            "3210  b'RT @bigray4: @russwest44 ayeee turn upss... ...                0  \n",
            "\n",
            "[3211 rows x 4 columns]\n"
          ]
        }
      ]
    },
    {
      "cell_type": "code",
      "source": [
        "label_counts = user_input_df['predicted_label'].value_counts()\n",
        "plt.figure(figsize=(8, 6))\n",
        "plt.bar(label_counts.index, label_counts.values)\n",
        "plt.xlabel('Sentiment')\n",
        "plt.ylabel('Frequency')\n",
        "plt.title('russwest44')\n",
        "plt.show()"
      ],
      "metadata": {
        "colab": {
          "base_uri": "https://localhost:8080/",
          "height": 564
        },
        "id": "E8G9CeAbSfuy",
        "outputId": "774b49fe-f0e1-4452-e44d-04934b29ef94"
      },
      "execution_count": null,
      "outputs": [
        {
          "output_type": "display_data",
          "data": {
            "text/plain": [
              "<Figure size 800x600 with 1 Axes>"
            ],
            "image/png": "[encoded data removed]"
          },
          "metadata": {}
        }
      ]
    },
    {
      "cell_type": "code",
      "source": [
        "import pandas as pd\n",
        "from sklearn.feature_extraction.text import CountVectorizer\n",
        "from sklearn import svm\n",
        "\n",
        "# Load the CSV file containing user input\n",
        "user_input_df = pd.read_csv('/content/sample_data/stephenasmith.csv')  # Update path to the CSV file\n",
        "\n",
        "# Assuming the CSV file has a column named 'text' containing the input text\n",
        "user_input_texts = user_input_df['tweet']\n",
        "\n",
        "# Assuming 'vectorizer' and 'clf' are already trained and defined\n",
        "# Vectorize the user input text\n",
        "user_input_vect = vectorizer.transform(user_input_texts)\n",
        "\n",
        "# Predict labels for the user input\n",
        "predicted_labels = clf.predict(user_input_vect)\n",
        "\n",
        "# Add predicted labels to the user input DataFrame\n",
        "user_input_df['predicted_label'] = predicted_labels\n",
        "\n",
        "# Display the DataFrame with predicted labels\n",
        "print(user_input_df)"
      ],
      "metadata": {
        "colab": {
          "base_uri": "https://localhost:8080/"
        },
        "id": "vC9G_hmOSuxk",
        "outputId": "02fd27d4-1066-4b9b-80bb-77a6816a16bf"
      },
      "execution_count": null,
      "outputs": [
        {
          "output_type": "stream",
          "name": "stdout",
          "text": [
            "               twitter_id                       date  \\\n",
            "0     1546591198063857671  2022-07-11 20:24:10+00:00   \n",
            "1     1545217606097010690  2022-07-08 01:26:00+00:00   \n",
            "2     1544897411717468160  2022-07-07 04:13:40+00:00   \n",
            "3     1544643607445086209  2022-07-06 11:25:08+00:00   \n",
            "4     1543301505133985793  2022-07-02 18:32:06+00:00   \n",
            "...                   ...                        ...   \n",
            "3241  1186678289257160704  2019-10-22 16:18:46+00:00   \n",
            "3242  1186657800824467456  2019-10-22 14:57:21+00:00   \n",
            "3243  1186629089534369792  2019-10-22 13:03:16+00:00   \n",
            "3244  1186626774190440448  2019-10-22 12:54:04+00:00   \n",
            "3245  1186477001281945601  2019-10-22 02:58:55+00:00   \n",
            "\n",
            "                                                  tweet  predicted_label  \n",
            "0     b'Really @Rjeff24? Really? Of all the teams yo...                0  \n",
            "1     b'Proud of you, my dude, @Realclark25. No one ...                0  \n",
            "2     b'Enjoy folks. Everyone\\xe2\\x80\\x99s entitled ...                1  \n",
            "3     b'And so it is @DwyaneWade. And so it is\\xe2\\x...                0  \n",
            "4     b'Tonight! #UFC276 \\n\\nhttps://t.co/URK6GnNjhz...                2  \n",
            "...                                                 ...              ...  \n",
            "3241  b\"RT @FirstTake: .@stephenasmith picks his top...                2  \n",
            "3242  b\"I've been covering the NBA for 25 years. I'v...                0  \n",
            "3243                               b'NBA is back!!!!!!'                2  \n",
            "3244  b'Finally! Finally! Finally!!!!!!! https://t.c...                1  \n",
            "3245  b'Hey. I don\\xe2\\x80\\x99t give a damn if the @...                0  \n",
            "\n",
            "[3246 rows x 4 columns]\n"
          ]
        }
      ]
    },
    {
      "cell_type": "code",
      "source": [
        "label_counts = user_input_df['predicted_label'].value_counts()\n",
        "plt.figure(figsize=(8, 6))\n",
        "plt.bar(label_counts.index, label_counts.values)\n",
        "plt.xlabel('Sentiment')\n",
        "plt.ylabel('Frequency')\n",
        "plt.title('Stephenasmith')\n",
        "plt.show()"
      ],
      "metadata": {
        "colab": {
          "base_uri": "https://localhost:8080/",
          "height": 564
        },
        "id": "hyBF-tnPS13n",
        "outputId": "4686b950-78ad-4fff-9ec9-29108ccc1b33"
      },
      "execution_count": null,
      "outputs": [
        {
          "output_type": "display_data",
          "data": {
            "text/plain": [
              "<Figure size 800x600 with 1 Axes>"
            ],
            "image/png": "[encoded data removed]"
          },
          "metadata": {}
        }
      ]
    }
  ]
}